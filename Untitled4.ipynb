{
 "cells": [
  {
   "cell_type": "markdown",
   "id": "b47c42b3-da0f-4a6a-9fc4-a3c0d5b177e7",
   "metadata": {},
   "source": [
    "1. In the below elements which of them are values or an expression? eg:- values can be integer or string and expressions\n",
    "will be mathematical operators.\n",
    "* \n",
    "'hello'\n",
    "-87.8\n",
    "- \n",
    "/ \n",
    "+\t\n",
    "6 \n"
   ]
  },
  {
   "cell_type": "raw",
   "id": "583f3dbc-e97d-4aa6-8ac8-4f2e4351640f",
   "metadata": {},
   "source": [
    "* is a operator\n",
    "'hello'is a string\n",
    "-87.8 is a expression\n",
    "- is a operator\n",
    "/ is a operator\n",
    "+ is a operator\n",
    "6 is a integer"
   ]
  },
  {
   "cell_type": "markdown",
   "id": "ab5da17d-0c89-446e-9ac5-236dc5c18320",
   "metadata": {},
   "source": [
    "2. What is the difference between string and variable?"
   ]
  },
  {
   "cell_type": "raw",
   "id": "dbb99e10-a717-49dd-9f97-b6e7ebd27712",
   "metadata": {},
   "source": [
    "variables are the container which contain data and string is the data which is stored in variable.\n",
    "Ex- i='ineuron'\n",
    "    i is variable\n",
    "    'ineuron' is string"
   ]
  },
  {
   "cell_type": "markdown",
   "id": "cd97d393-66b3-478f-8cd5-80c206d3b324",
   "metadata": {},
   "source": [
    "3. Describe three different data types."
   ]
  },
  {
   "cell_type": "raw",
   "id": "dd466519-6748-4d9c-ad27-28ae0ffc2a74",
   "metadata": {},
   "source": [
    "1. Integer are the\twhole numbers.\t\n",
    "Ex-7, 12, 999\n",
    "\n",
    "2. Float are number with a decimal point.\t\n",
    "Ex-3.15, 9.06, 00.13\n",
    "\n",
    "3. Boolean\tdata type represent logical values.\t\n",
    "Ex-TRUE, FALSE"
   ]
  },
  {
   "cell_type": "markdown",
   "id": "60110aa4-8d51-4ec9-8baf-b586de15abbf",
   "metadata": {},
   "source": [
    "4. What is an expression made up of? What do all expressions do?"
   ]
  },
  {
   "cell_type": "raw",
   "id": "8764d066-6b80-44e7-9a14-93db5866ccc8",
   "metadata": {},
   "source": [
    "Expression is made up of variables, operators and constant.\n",
    "Expression may consist of one or more operands operators to produce a value."
   ]
  },
  {
   "cell_type": "markdown",
   "id": "2e3389ff-41cf-4921-bda2-546d20be13de",
   "metadata": {},
   "source": [
    "5. This assignment statements, like spam = 10. What is the difference between an expression and a statement?"
   ]
  },
  {
   "cell_type": "raw",
   "id": "70c0e275-7b3d-4149-b1d2-3f293d6a701c",
   "metadata": {},
   "source": [
    "Expressions produce a value and that value will be passed into the function. Statements don't produce a value and so they can't be used as function arguments."
   ]
  },
  {
   "cell_type": "markdown",
   "id": "5b9824bc-ac5b-4598-b7b9-8cf0e43e150f",
   "metadata": {},
   "source": [
    "6. After running the following code, what does the variable bacon contain?\n",
    "bacon = 22\n",
    "bacon + 1"
   ]
  },
  {
   "cell_type": "code",
   "execution_count": 1,
   "id": "16e2c314-2265-4922-80ab-66e933a05c5e",
   "metadata": {},
   "outputs": [
    {
     "data": {
      "text/plain": [
       "23"
      ]
     },
     "execution_count": 1,
     "metadata": {},
     "output_type": "execute_result"
    }
   ],
   "source": [
    "bacon = 22\n",
    "bacon + 1"
   ]
  },
  {
   "cell_type": "markdown",
   "id": "990f97cb-3983-4cd2-b701-7b64be860971",
   "metadata": {},
   "source": [
    "7. What should the values of the following two terms be?\n",
    "'spam' + 'spamspam'\n",
    "'spam' * 3\n"
   ]
  },
  {
   "cell_type": "code",
   "execution_count": 2,
   "id": "173174ce-4758-40c7-8954-3eed11b19527",
   "metadata": {},
   "outputs": [
    {
     "data": {
      "text/plain": [
       "'spamspamspam'"
      ]
     },
     "execution_count": 2,
     "metadata": {},
     "output_type": "execute_result"
    }
   ],
   "source": [
    "'spam' + 'spamspam'\n",
    "'spam' * 3"
   ]
  },
  {
   "cell_type": "markdown",
   "id": "9a1ceda3-96a1-4897-9eda-77e14bfeb92f",
   "metadata": {},
   "source": [
    "8. Why is eggs a valid variable name while 100 is invalid?"
   ]
  },
  {
   "cell_type": "code",
   "execution_count": 12,
   "id": "f7c55011-b675-4aa0-a0d8-9f6fc80b0a6d",
   "metadata": {},
   "outputs": [],
   "source": [
    "egg='i'"
   ]
  },
  {
   "cell_type": "code",
   "execution_count": 13,
   "id": "5019e647-6680-4a3e-b9c6-30d88f8ebf34",
   "metadata": {},
   "outputs": [
    {
     "ename": "SyntaxError",
     "evalue": "cannot assign to literal here. Maybe you meant '==' instead of '='? (3541282554.py, line 1)",
     "output_type": "error",
     "traceback": [
      "\u001b[0;36m  Cell \u001b[0;32mIn [13], line 1\u001b[0;36m\u001b[0m\n\u001b[0;31m    100='i'\u001b[0m\n\u001b[0m    ^\u001b[0m\n\u001b[0;31mSyntaxError\u001b[0m\u001b[0;31m:\u001b[0m cannot assign to literal here. Maybe you meant '==' instead of '='?\n"
     ]
    }
   ],
   "source": [
    "100='i'"
   ]
  },
  {
   "cell_type": "markdown",
   "id": "b807b16a-76a9-4754-81fa-6647140fa58e",
   "metadata": {},
   "source": [
    "9. What three functions can be used to get the integer, floating-point number, or string version of a value?"
   ]
  },
  {
   "cell_type": "code",
   "execution_count": 9,
   "id": "26e67b55-e873-482c-a0be-e6bd488cd534",
   "metadata": {},
   "outputs": [
    {
     "data": {
      "text/plain": [
       "10"
      ]
     },
     "execution_count": 9,
     "metadata": {},
     "output_type": "execute_result"
    }
   ],
   "source": [
    "a='10'\n",
    "int(a)"
   ]
  },
  {
   "cell_type": "code",
   "execution_count": 6,
   "id": "6c346b21-0a1b-49e1-a5ee-3770e3de5dde",
   "metadata": {},
   "outputs": [
    {
     "data": {
      "text/plain": [
       "10.0"
      ]
     },
     "execution_count": 6,
     "metadata": {},
     "output_type": "execute_result"
    }
   ],
   "source": [
    "float(a)"
   ]
  },
  {
   "cell_type": "code",
   "execution_count": 7,
   "id": "13fdcebb-ec06-4c64-8c32-b658ccb06377",
   "metadata": {},
   "outputs": [
    {
     "data": {
      "text/plain": [
       "'10'"
      ]
     },
     "execution_count": 7,
     "metadata": {},
     "output_type": "execute_result"
    }
   ],
   "source": [
    "str(a)"
   ]
  },
  {
   "cell_type": "markdown",
   "id": "efea4713-d85c-4148-ad69-68c0fd02e530",
   "metadata": {},
   "source": [
    "10. Why does this expression cause an error? How can you fix it?\n",
    "'I have eaten ' + 99 + ' burritos.'\n"
   ]
  },
  {
   "cell_type": "code",
   "execution_count": 10,
   "id": "00b5abcb-fde1-4731-b7b1-92312ce2d61d",
   "metadata": {},
   "outputs": [
    {
     "ename": "TypeError",
     "evalue": "can only concatenate str (not \"int\") to str",
     "output_type": "error",
     "traceback": [
      "\u001b[0;31m---------------------------------------------------------------------------\u001b[0m",
      "\u001b[0;31mTypeError\u001b[0m                                 Traceback (most recent call last)",
      "Cell \u001b[0;32mIn [10], line 1\u001b[0m\n\u001b[0;32m----> 1\u001b[0m \u001b[38;5;124;43m'\u001b[39;49m\u001b[38;5;124;43mI have eaten \u001b[39;49m\u001b[38;5;124;43m'\u001b[39;49m\u001b[43m \u001b[49m\u001b[38;5;241;43m+\u001b[39;49m\u001b[43m \u001b[49m\u001b[38;5;241;43m99\u001b[39;49m \u001b[38;5;241m+\u001b[39m \u001b[38;5;124m'\u001b[39m\u001b[38;5;124m burritos.\u001b[39m\u001b[38;5;124m'\u001b[39m\n",
      "\u001b[0;31mTypeError\u001b[0m: can only concatenate str (not \"int\") to str"
     ]
    }
   ],
   "source": [
    "'I have eaten ' + 99 + ' burritos.'"
   ]
  },
  {
   "cell_type": "code",
   "execution_count": 11,
   "id": "2739d52e-d6e3-4c71-9645-f1b52dfa4df7",
   "metadata": {},
   "outputs": [
    {
     "data": {
      "text/plain": [
       "'I have eaten 99 burritos.'"
      ]
     },
     "execution_count": 11,
     "metadata": {},
     "output_type": "execute_result"
    }
   ],
   "source": [
    "'I have eaten ' + '99' + ' burritos.'"
   ]
  }
 ],
 "metadata": {
  "kernelspec": {
   "display_name": "Python 3 (ipykernel)",
   "language": "python",
   "name": "python3"
  },
  "language_info": {
   "codemirror_mode": {
    "name": "ipython",
    "version": 3
   },
   "file_extension": ".py",
   "mimetype": "text/x-python",
   "name": "python",
   "nbconvert_exporter": "python",
   "pygments_lexer": "ipython3",
   "version": "3.10.6"
  }
 },
 "nbformat": 4,
 "nbformat_minor": 5
}
